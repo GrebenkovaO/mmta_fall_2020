{
 "cells": [
  {
   "cell_type": "markdown",
   "metadata": {},
   "source": [
    "# Векторные представления для описаний ингредиентов\n",
    "## Математические методы анализа текстов, 2020\n",
    "## Попов Артём"
   ]
  },
  {
   "cell_type": "code",
   "execution_count": 1,
   "metadata": {},
   "outputs": [],
   "source": [
    "# считывание данных\n",
    "import json\n",
    "\n",
    "# удобный словарь для подсчёта количества появлений\n",
    "from collections import Counter\n",
    "\n",
    "# логгирование цикла\n",
    "from tqdm.notebook import tqdm\n",
    "\n",
    "# регулярные выражения для предобработки\n",
    "import re\n",
    "\n",
    "# графики\n",
    "import matplotlib.pyplot as plt"
   ]
  },
  {
   "cell_type": "markdown",
   "metadata": {},
   "source": [
    "Загружаем датасет с рецептами (https://www.kaggle.com/venkataganesh/recipes-clean-dataset):"
   ]
  },
  {
   "cell_type": "code",
   "execution_count": 2,
   "metadata": {},
   "outputs": [],
   "source": [
    "with open('bbc_food.json', 'r') as f:\n",
    "    food_table = json.load(f)"
   ]
  },
  {
   "cell_type": "code",
   "execution_count": 4,
   "metadata": {},
   "outputs": [
    {
     "data": {
      "text/plain": [
       "dict_keys(['total_ratings', 'serving', 'recipe_image', 'prep_time', 'ingredients', 'url', 'title', 'uniq_id', 'source', 'cooking_time', 'chef_url', 'skill_level', 'crawled_at', 'prep_methods', 'chef_name'])"
      ]
     },
     "execution_count": 4,
     "metadata": {},
     "output_type": "execute_result"
    }
   ],
   "source": [
    "food_table[0].keys()"
   ]
  },
  {
   "cell_type": "markdown",
   "metadata": {},
   "source": [
    "Мы хотим выучить векторные представления для ингредиентов блюд. Посмотрим, сколько уникальных ингредиентов:"
   ]
  },
  {
   "cell_type": "code",
   "execution_count": 5,
   "metadata": {},
   "outputs": [
    {
     "data": {
      "application/vnd.jupyter.widget-view+json": {
       "model_id": "b95d6544d0de4f22b3bc270d1d112b30",
       "version_major": 2,
       "version_minor": 0
      },
      "text/plain": [
       "HBox(children=(FloatProgress(value=0.0, max=12960.0), HTML(value='')))"
      ]
     },
     "metadata": {},
     "output_type": "display_data"
    },
    {
     "name": "stdout",
     "output_type": "stream",
     "text": [
      "\n"
     ]
    },
    {
     "data": {
      "text/plain": [
       "60484"
      ]
     },
     "execution_count": 5,
     "metadata": {},
     "output_type": "execute_result"
    }
   ],
   "source": [
    "all_food_names = Counter()\n",
    "\n",
    "for one_recipe in tqdm(food_table):\n",
    "    all_food_names.update(one_recipe['ingredients'])\n",
    "len(all_food_names)"
   ]
  },
  {
   "cell_type": "markdown",
   "metadata": {},
   "source": [
    "Довольно много, посмотрим на них:"
   ]
  },
  {
   "cell_type": "code",
   "execution_count": 7,
   "metadata": {},
   "outputs": [
    {
     "data": {
      "text/plain": [
       "[('1 tbsp olive oil', 992),\n",
       " ('2 tbsp olive oil', 897),\n",
       " ('1 garlic clove, crushed', 448),\n",
       " ('2 garlic cloves, crushed', 425),\n",
       " ('3 tbsp olive oil', 394),\n",
       " ('1 tsp vanilla extract', 382),\n",
       " ('50g butter', 343),\n",
       " ('25g butter', 333),\n",
       " ('1 egg, beaten', 317),\n",
       " ('1 onion, finely chopped', 266)]"
      ]
     },
     "execution_count": 7,
     "metadata": {},
     "output_type": "execute_result"
    }
   ],
   "source": [
    "all_food_names.most_common(10)"
   ]
  },
  {
   "cell_type": "markdown",
   "metadata": {},
   "source": [
    "Проведём предобработку имён, удалим разные модификаторы количества/размера/объёма, а также уберём дополнительное описание после запятой:"
   ]
  },
  {
   "cell_type": "code",
   "execution_count": 7,
   "metadata": {},
   "outputs": [],
   "source": [
    "def preprocess_food_name(one_food):\n",
    "    one_food = one_food.lower()\n",
    "    one_food = re.sub('^([0-9½¼-]+)\\s(tbsp|tsp)', '', one_food).strip()\n",
    "    one_food = re.sub('^[0-9]+(g|ml| large|l)', '', one_food).strip()\n",
    "    one_food = re.sub('^[0-9½¼-]+', '', one_food).strip()\n",
    "    one_food = re.sub(',.*$', '', one_food).strip()\n",
    "    return one_food"
   ]
  },
  {
   "cell_type": "code",
   "execution_count": 8,
   "metadata": {},
   "outputs": [
    {
     "data": {
      "application/vnd.jupyter.widget-view+json": {
       "model_id": "1da85c789596460987be427a2191155c",
       "version_major": 2,
       "version_minor": 0
      },
      "text/plain": [
       "HBox(children=(FloatProgress(value=0.0, max=12960.0), HTML(value='')))"
      ]
     },
     "metadata": {},
     "output_type": "display_data"
    },
    {
     "name": "stdout",
     "output_type": "stream",
     "text": [
      "\n"
     ]
    },
    {
     "data": {
      "text/plain": [
       "27003"
      ]
     },
     "execution_count": 8,
     "metadata": {},
     "output_type": "execute_result"
    }
   ],
   "source": [
    "all_food_names = Counter()\n",
    "\n",
    "for one_recipe in tqdm(food_table):\n",
    "    for one_food in one_recipe['ingredients']:\n",
    "        one_food = preprocess_food_name(one_food)\n",
    "        all_food_names.update([one_food])\n",
    "\n",
    "len(all_food_names)"
   ]
  },
  {
   "cell_type": "markdown",
   "metadata": {},
   "source": [
    "Теперь их гораздо меньше.\n",
    "\n",
    "Запомним все нечастотные (их большинство):"
   ]
  },
  {
   "cell_type": "code",
   "execution_count": 9,
   "metadata": {},
   "outputs": [
    {
     "data": {
      "text/plain": [
       "24603"
      ]
     },
     "execution_count": 9,
     "metadata": {},
     "output_type": "execute_result"
    }
   ],
   "source": [
    "bad_names = set()\n",
    "for name, name_count in all_food_names.items():\n",
    "    if name_count < 5:\n",
    "        bad_names.add(name)\n",
    "\n",
    "len(bad_names)"
   ]
  },
  {
   "cell_type": "markdown",
   "metadata": {},
   "source": [
    "А теперь создаём датасет. Для начала создадим датасет для решения задачи при помощи библиотеки gensim."
   ]
  },
  {
   "cell_type": "code",
   "execution_count": 12,
   "metadata": {},
   "outputs": [
    {
     "data": {
      "text/plain": [
       "['one', 'two', 'three']"
      ]
     },
     "execution_count": 12,
     "metadata": {},
     "output_type": "execute_result"
    }
   ],
   "source": [
    "re.split('[\\s-]', 'one-two three')"
   ]
  },
  {
   "cell_type": "code",
   "execution_count": 13,
   "metadata": {},
   "outputs": [
    {
     "data": {
      "application/vnd.jupyter.widget-view+json": {
       "model_id": "83ec33c609ac42748d5132884278da79",
       "version_major": 2,
       "version_minor": 0
      },
      "text/plain": [
       "HBox(children=(FloatProgress(value=0.0, max=12960.0), HTML(value='')))"
      ]
     },
     "metadata": {},
     "output_type": "display_data"
    },
    {
     "name": "stdout",
     "output_type": "stream",
     "text": [
      "\n"
     ]
    }
   ],
   "source": [
    "food_dataset_for_embeddings = []\n",
    "\n",
    "for one_recipe in tqdm(food_table):\n",
    "    current_recipe_entities = []\n",
    "    for one_food in one_recipe['ingredients']:\n",
    "        one_food = preprocess_food_name(one_food)\n",
    "        if one_food not in bad_names:\n",
    "            # for gensim\n",
    "            current_recipe_entities.append(\"_\".join(re.split('[\\s-]', one_food)))            \n",
    "        else:\n",
    "            # for gensim\n",
    "            current_recipe_entities.append('UNK')\n",
    "    food_dataset_for_embeddings.append(current_recipe_entities)"
   ]
  },
  {
   "cell_type": "markdown",
   "metadata": {},
   "source": [
    "Один документ - ингредиенты одного блюда, редкие ингредиенты заменены на UNK:"
   ]
  },
  {
   "cell_type": "code",
   "execution_count": 17,
   "metadata": {},
   "outputs": [
    {
     "data": {
      "text/plain": [
       "['dried_lasagne_sheets',\n",
       " 'sunflower_oil',\n",
       " 'onion',\n",
       " 'UNK',\n",
       " 'garlic_cloves',\n",
       " 'tub_ricotta',\n",
       " 'cheddar',\n",
       " 'UNK']"
      ]
     },
     "execution_count": 17,
     "metadata": {},
     "output_type": "execute_result"
    }
   ],
   "source": [
    "food_dataset_for_embeddings[5]"
   ]
  },
  {
   "cell_type": "markdown",
   "metadata": {},
   "source": [
    "Обучим модель Word2Vec и посмотрим на результаты:"
   ]
  },
  {
   "cell_type": "code",
   "execution_count": 18,
   "metadata": {},
   "outputs": [],
   "source": [
    "from gensim.models import Word2Vec"
   ]
  },
  {
   "cell_type": "code",
   "execution_count": 19,
   "metadata": {},
   "outputs": [],
   "source": [
    "model = Word2Vec(\n",
    "    food_dataset_for_embeddings,\n",
    "    sg=0,\n",
    "    hs=1,\n",
    "    window=10,\n",
    "    min_count=5,\n",
    "    iter=20,\n",
    "    size=40, # не нужен большой, маленький словарь\n",
    ")"
   ]
  },
  {
   "cell_type": "code",
   "execution_count": 20,
   "metadata": {},
   "outputs": [
    {
     "name": "stderr",
     "output_type": "stream",
     "text": [
      "C:\\Users\\artem\\anaconda3\\lib\\site-packages\\ipykernel_launcher.py:1: DeprecationWarning: Call to deprecated `most_similar` (Method will be removed in 4.0.0, use self.wv.most_similar() instead).\n",
      "  \"\"\"Entry point for launching an IPython kernel.\n"
     ]
    },
    {
     "data": {
      "text/plain": [
       "[('olive_or_rapeseed_oil', 0.7239720821380615),\n",
       " ('extra_virgin_olive_oil', 0.6861706972122192),\n",
       " ('sunflower_oil', 0.6393294334411621),\n",
       " ('½_tbsp_olive_oil', 0.6144692897796631),\n",
       " ('roasted_peppers_from_a_jar', 0.6043404340744019),\n",
       " ('jar_passata', 0.6004095673561096),\n",
       " ('vegetable_oil_or_sunflower_oil', 0.597752034664154),\n",
       " ('pack_flat_leaf_parsley', 0.5970256328582764),\n",
       " ('rapeseed_oil', 0.596339225769043),\n",
       " ('vegetable_oil', 0.5768603086471558)]"
      ]
     },
     "execution_count": 20,
     "metadata": {},
     "output_type": "execute_result"
    }
   ],
   "source": [
    "model.most_similar('olive_oil')"
   ]
  },
  {
   "cell_type": "code",
   "execution_count": 21,
   "metadata": {},
   "outputs": [
    {
     "name": "stderr",
     "output_type": "stream",
     "text": [
      "C:\\Users\\artem\\anaconda3\\lib\\site-packages\\ipykernel_launcher.py:1: DeprecationWarning: Call to deprecated `most_similar` (Method will be removed in 4.0.0, use self.wv.most_similar() instead).\n",
      "  \"\"\"Entry point for launching an IPython kernel.\n"
     ]
    },
    {
     "data": {
      "text/plain": [
       "[('vegetable_bouillon', 0.6981000900268555),\n",
       " ('aubergine', 0.594841718673706),\n",
       " ('lean_pork_mince', 0.5533093810081482),\n",
       " ('fine_green_beans', 0.5488946437835693),\n",
       " ('red_peppers', 0.5457039475440979),\n",
       " ('smoked_tofu', 0.53753662109375),\n",
       " ('can_kidney_beans', 0.5364513397216797),\n",
       " ('chopped_ginger', 0.5356467962265015),\n",
       " ('finely_chopped_ginger', 0.5343465209007263),\n",
       " ('vegetable_bouillon_powder', 0.5337571501731873)]"
      ]
     },
     "execution_count": 21,
     "metadata": {},
     "output_type": "execute_result"
    }
   ],
   "source": [
    "model.most_similar('red_pepper')"
   ]
  },
  {
   "cell_type": "code",
   "execution_count": 22,
   "metadata": {},
   "outputs": [
    {
     "name": "stderr",
     "output_type": "stream",
     "text": [
      "C:\\Users\\artem\\anaconda3\\lib\\site-packages\\ipykernel_launcher.py:1: DeprecationWarning: Call to deprecated `most_similar` (Method will be removed in 4.0.0, use self.wv.most_similar() instead).\n",
      "  \"\"\"Entry point for launching an IPython kernel.\n"
     ]
    },
    {
     "data": {
      "text/plain": [
       "[('cold_butter', 0.7154935002326965),\n",
       " ('unsalted_butter', 0.7027328014373779),\n",
       " ('soft_butter', 0.6669078469276428),\n",
       " ('knob_of_butter', 0.6335334181785583),\n",
       " ('fresh_nutmeg', 0.6222987771034241),\n",
       " ('softened_butter', 0.6222084760665894),\n",
       " ('chilled_butter', 0.6130401492118835),\n",
       " ('pack_ready_rolled_shortcrust_pastry', 0.5862318277359009),\n",
       " ('sage', 0.5744702816009521),\n",
       " ('medium_leek', 0.5691494941711426)]"
      ]
     },
     "execution_count": 22,
     "metadata": {},
     "output_type": "execute_result"
    }
   ],
   "source": [
    "model.most_similar('butter')"
   ]
  },
  {
   "cell_type": "code",
   "execution_count": 23,
   "metadata": {},
   "outputs": [
    {
     "name": "stderr",
     "output_type": "stream",
     "text": [
      "C:\\Users\\artem\\anaconda3\\lib\\site-packages\\ipykernel_launcher.py:1: DeprecationWarning: Call to deprecated `most_similar` (Method will be removed in 4.0.0, use self.wv.most_similar() instead).\n",
      "  \"\"\"Entry point for launching an IPython kernel.\n"
     ]
    },
    {
     "data": {
      "text/plain": [
       "[('whole_milk', 0.7724577188491821),\n",
       " ('semi_skimmed_milk', 0.6656508445739746),\n",
       " ('full_fat_milk', 0.6272252798080444),\n",
       " ('ml_milk', 0.5879224538803101),\n",
       " ('skimmed_milk', 0.5567620992660522),\n",
       " ('block_shortcrust_pastry', 0.5567005276679993),\n",
       " ('shredded_suet', 0.5335216522216797),\n",
       " ('pack_all_butter_puff_pastry', 0.5277330279350281),\n",
       " ('zest_and_juice_3_lemons', 0.5261560678482056),\n",
       " ('chilled_butter', 0.5244767665863037)]"
      ]
     },
     "execution_count": 23,
     "metadata": {},
     "output_type": "execute_result"
    }
   ],
   "source": [
    "model.most_similar('milk')"
   ]
  },
  {
   "cell_type": "markdown",
   "metadata": {},
   "source": [
    "А теперь решим задачу при помощи pytorh. Всем словам необходимо сопоставить уникальный индекс. \n",
    "Для удобства заведём длинный документ, описывающий всю коллекцию (см. лекцию). Чтобы модели было проще различать граничные ситуации, добавим в начало и конец каждого документа специальные токены."
   ]
  },
  {
   "cell_type": "code",
   "execution_count": 24,
   "metadata": {},
   "outputs": [
    {
     "data": {
      "application/vnd.jupyter.widget-view+json": {
       "model_id": "d9b3e72d580b4280abcfc178e4ecd617",
       "version_major": 2,
       "version_minor": 0
      },
      "text/plain": [
       "HBox(children=(FloatProgress(value=0.0, max=12960.0), HTML(value='')))"
      ]
     },
     "metadata": {},
     "output_type": "display_data"
    },
    {
     "name": "stdout",
     "output_type": "stream",
     "text": [
      "\n"
     ]
    }
   ],
   "source": [
    "food_dataset_for_embeddings = []\n",
    "name_to_index = {'UNK': 0, 'START': 1, 'END': 2}\n",
    "\n",
    "for one_recipe in tqdm(food_table):\n",
    "    current_recipe_entities = []\n",
    "    for one_food in one_recipe['ingredients']:\n",
    "        one_food = preprocess_food_name(one_food)\n",
    "        if one_food not in bad_names:\n",
    "            name_to_index.setdefault(one_food, len(name_to_index))\n",
    "            # for torch\n",
    "            current_recipe_entities.append(name_to_index[one_food])\n",
    "        else:            \n",
    "            # for torch\n",
    "            current_recipe_entities.append(name_to_index['UNK'])\n",
    "\n",
    "    food_dataset_for_embeddings += (\n",
    "        [name_to_index['START']] + \n",
    "        current_recipe_entities + \n",
    "        [name_to_index['END']]\n",
    "    )\n",
    "    \n",
    "index_to_name = {\n",
    "    name: index\n",
    "    for index, name in name_to_index.items()\n",
    "}"
   ]
  },
  {
   "cell_type": "code",
   "execution_count": 25,
   "metadata": {},
   "outputs": [],
   "source": [
    "import torch\n",
    "import torch.nn as nn\n",
    "\n",
    "from torch.utils.data import Dataset, DataLoader\n",
    "from torch.optim import Adam"
   ]
  },
  {
   "cell_type": "markdown",
   "metadata": {},
   "source": [
    "Задание датасета :\n",
    "* `__getitem__` - что будет представлять собой одна пара (объект, ответ)\n",
    "* `__len__` - длина датасета"
   ]
  },
  {
   "cell_type": "code",
   "execution_count": 28,
   "metadata": {},
   "outputs": [],
   "source": [
    "class EmbeddingDataset(Dataset):\n",
    "    def __init__(self, collection, name_to_index, k):\n",
    "        self._collection = collection\n",
    "        self._name_to_index = name_to_index\n",
    "        self.k = k\n",
    "        \n",
    "        self._start_index = self._name_to_index['START']\n",
    "        self._end_index = self._name_to_index['END']\n",
    "    \n",
    "    def __getitem__(self, i):\n",
    "        w_i = self._collection[i]\n",
    "        \n",
    "        if w_i != self._start_index:\n",
    "            w_left_context = self._collection[i - self.k:i]\n",
    "        else:\n",
    "            w_left_context = []\n",
    "        w_left_context += [self._start_index] * (self.k - len(w_left_context))\n",
    "        \n",
    "        if w_i != self._end_index:\n",
    "            w_right_context = self._collection[i + 1:i + self.k + 1]\n",
    "        else:\n",
    "            w_right_context = []\n",
    "        w_right_context += [self._end_index] * (self.k - len(w_right_context))\n",
    "        \n",
    "        return torch.tensor(w_left_context + w_right_context), w_i\n",
    "        \n",
    "    def __len__(self):\n",
    "        return len(self._collection)"
   ]
  },
  {
   "cell_type": "code",
   "execution_count": 29,
   "metadata": {},
   "outputs": [],
   "source": [
    "dataset = EmbeddingDataset(food_dataset_for_embeddings, name_to_index, 3)"
   ]
  },
  {
   "cell_type": "markdown",
   "metadata": {},
   "source": [
    "DataLoader позволяет по любому датасету создавать итератор. Абстракция DataLoader позволяет вам не писать отдельно функции для сбора объектов в батчи, перемешивание объектов и т.п."
   ]
  },
  {
   "cell_type": "code",
   "execution_count": 33,
   "metadata": {},
   "outputs": [],
   "source": [
    "data_loader = DataLoader(dataset, batch_size=20, shuffle=False)"
   ]
  },
  {
   "cell_type": "markdown",
   "metadata": {},
   "source": [
    "Задание модели:\n",
    "* модель наследуется от nn.Module\n",
    "* forward - основной метод, получение выходов нейросети\n",
    "* .parameters() - можно вызвать от любого nn.Module блока, он возвращает итератор по хранящимся весам слоёв модели"
   ]
  },
  {
   "cell_type": "code",
   "execution_count": 34,
   "metadata": {},
   "outputs": [],
   "source": [
    "class CBOW(nn.Module):\n",
    "    def __init__(self, num_embeddings, embedding_dim):\n",
    "        super().__init__()\n",
    "\n",
    "        self.embedding_bag = nn.EmbeddingBag(\n",
    "            num_embeddings=num_embeddings,\n",
    "            embedding_dim=embedding_dim,\n",
    "        )\n",
    "        self.linear = nn.Linear(\n",
    "            in_features=embedding_dim,\n",
    "            out_features=num_embeddings,\n",
    "        )\n",
    "        \n",
    "    def forward(self, context_indexes):\n",
    "        mean_embedding = self.embedding_bag(context_indexes) \n",
    "        return self.linear(mean_embedding)\n",
    "    \n",
    "    @property\n",
    "    def embedding_matrix(self):\n",
    "        return next(iter(cbow_model.embedding_bag.parameters()))"
   ]
  },
  {
   "cell_type": "code",
   "execution_count": 35,
   "metadata": {},
   "outputs": [],
   "source": [
    "cbow_model = CBOW(\n",
    "    num_embeddings=len(name_to_index),\n",
    "    embedding_dim=40,\n",
    ")"
   ]
  },
  {
   "cell_type": "markdown",
   "metadata": {},
   "source": [
    "Функция потерь nn.CrossEntropyLoss:\n",
    "* производит вычисление \\log \\softmax от выходов в нужной точке\n",
    "\n",
    "Метод оптимизации Adam:\n",
    "* стандартный метод оптимизации нейросетей"
   ]
  },
  {
   "cell_type": "code",
   "execution_count": 36,
   "metadata": {},
   "outputs": [],
   "source": [
    "loss_function = nn.CrossEntropyLoss()\n",
    "optimizer = Adam(cbow_model.parameters(), lr=1e-3)"
   ]
  },
  {
   "cell_type": "markdown",
   "metadata": {},
   "source": [
    "Процесс обучения модели:"
   ]
  },
  {
   "cell_type": "code",
   "execution_count": 37,
   "metadata": {},
   "outputs": [
    {
     "data": {
      "application/vnd.jupyter.widget-view+json": {
       "model_id": "2dac2e88b89640a7b5fd71c1e0c016c4",
       "version_major": 2,
       "version_minor": 0
      },
      "text/plain": [
       "HBox(children=(FloatProgress(value=0.0, max=10.0), HTML(value='')))"
      ]
     },
     "metadata": {},
     "output_type": "display_data"
    },
    {
     "data": {
      "application/vnd.jupyter.widget-view+json": {
       "model_id": "",
       "version_major": 2,
       "version_minor": 0
      },
      "text/plain": [
       "HBox(children=(FloatProgress(value=0.0, max=7467.0), HTML(value='')))"
      ]
     },
     "metadata": {},
     "output_type": "display_data"
    },
    {
     "data": {
      "application/vnd.jupyter.widget-view+json": {
       "model_id": "",
       "version_major": 2,
       "version_minor": 0
      },
      "text/plain": [
       "HBox(children=(FloatProgress(value=0.0, max=7467.0), HTML(value='')))"
      ]
     },
     "metadata": {},
     "output_type": "display_data"
    },
    {
     "data": {
      "application/vnd.jupyter.widget-view+json": {
       "model_id": "",
       "version_major": 2,
       "version_minor": 0
      },
      "text/plain": [
       "HBox(children=(FloatProgress(value=0.0, max=7467.0), HTML(value='')))"
      ]
     },
     "metadata": {},
     "output_type": "display_data"
    },
    {
     "data": {
      "application/vnd.jupyter.widget-view+json": {
       "model_id": "",
       "version_major": 2,
       "version_minor": 0
      },
      "text/plain": [
       "HBox(children=(FloatProgress(value=0.0, max=7467.0), HTML(value='')))"
      ]
     },
     "metadata": {},
     "output_type": "display_data"
    },
    {
     "data": {
      "application/vnd.jupyter.widget-view+json": {
       "model_id": "",
       "version_major": 2,
       "version_minor": 0
      },
      "text/plain": [
       "HBox(children=(FloatProgress(value=0.0, max=7467.0), HTML(value='')))"
      ]
     },
     "metadata": {},
     "output_type": "display_data"
    },
    {
     "data": {
      "application/vnd.jupyter.widget-view+json": {
       "model_id": "",
       "version_major": 2,
       "version_minor": 0
      },
      "text/plain": [
       "HBox(children=(FloatProgress(value=0.0, max=7467.0), HTML(value='')))"
      ]
     },
     "metadata": {},
     "output_type": "display_data"
    },
    {
     "data": {
      "application/vnd.jupyter.widget-view+json": {
       "model_id": "",
       "version_major": 2,
       "version_minor": 0
      },
      "text/plain": [
       "HBox(children=(FloatProgress(value=0.0, max=7467.0), HTML(value='')))"
      ]
     },
     "metadata": {},
     "output_type": "display_data"
    },
    {
     "data": {
      "application/vnd.jupyter.widget-view+json": {
       "model_id": "",
       "version_major": 2,
       "version_minor": 0
      },
      "text/plain": [
       "HBox(children=(FloatProgress(value=0.0, max=7467.0), HTML(value='')))"
      ]
     },
     "metadata": {},
     "output_type": "display_data"
    },
    {
     "data": {
      "application/vnd.jupyter.widget-view+json": {
       "model_id": "",
       "version_major": 2,
       "version_minor": 0
      },
      "text/plain": [
       "HBox(children=(FloatProgress(value=0.0, max=7467.0), HTML(value='')))"
      ]
     },
     "metadata": {},
     "output_type": "display_data"
    },
    {
     "data": {
      "application/vnd.jupyter.widget-view+json": {
       "model_id": "",
       "version_major": 2,
       "version_minor": 0
      },
      "text/plain": [
       "HBox(children=(FloatProgress(value=0.0, max=7467.0), HTML(value='')))"
      ]
     },
     "metadata": {},
     "output_type": "display_data"
    },
    {
     "name": "stdout",
     "output_type": "stream",
     "text": [
      "\n"
     ]
    }
   ],
   "source": [
    "all_losses = []\n",
    "\n",
    "for n_epoch in tqdm(range(10)):\n",
    "    mean_loss = 0\n",
    "    for context_indexes, center_index in tqdm(data_loader, leave=False):\n",
    "        outputs = cbow_model(context_indexes)\n",
    "        loss_value = loss_function(outputs, center_index)\n",
    "        loss_value.backward()\n",
    "        \n",
    "        mean_loss += float(loss_value)\n",
    "        optimizer.step()\n",
    "        optimizer.zero_grad()\n",
    "    mean_loss /= len(data_loader)\n",
    "    all_losses.append(mean_loss)"
   ]
  },
  {
   "cell_type": "markdown",
   "metadata": {},
   "source": [
    "Если хотите обучать на куде, то код изменился бы так:\n",
    "\n",
    "```\n",
    "# 0 - нулевое устройство куды\n",
    "# вмето 0 можно 'cuda'\n",
    "cbow_model.to(0)\n",
    "\n",
    "all_losses = []\n",
    "\n",
    "for n_epoch in tqdm(range(20)):\n",
    "    mean_loss = 0\n",
    "    for context_indexes, center_index in tqdm(data_loader, leave=False):\n",
    "        context_indexes = context_indexes.to(0)\n",
    "        center_index = center_index.to(0)\n",
    "    \n",
    "        output_probs = cbow_model(context_indexes)\n",
    "        loss_value = loss_function(output_probs, center_index)\n",
    "        loss_value.backward()\n",
    "        \n",
    "        mean_loss += float(loss_value.to('cpu'))\n",
    "        optimizer.step()\n",
    "        optimizer.zero_grad()\n",
    "    mean_loss /= len(data_loader)\n",
    "    all_losses.append(mean_loss)\n",
    "```"
   ]
  },
  {
   "cell_type": "code",
   "execution_count": 38,
   "metadata": {},
   "outputs": [
    {
     "data": {
      "text/plain": [
       "[<matplotlib.lines.Line2D at 0x1bdfee8d848>]"
      ]
     },
     "execution_count": 38,
     "metadata": {},
     "output_type": "execute_result"
    },
    {
     "data": {
      "image/png": "[encoded data removed]",
      "text/plain": [
       "<Figure size 432x288 with 1 Axes>"
      ]
     },
     "metadata": {
      "needs_background": "light"
     },
     "output_type": "display_data"
    }
   ],
   "source": [
    "plt.plot(all_losses)"
   ]
  },
  {
   "cell_type": "code",
   "execution_count": 39,
   "metadata": {},
   "outputs": [],
   "source": [
    "def find_similar(target_embedding, embedding_matrix, k):\n",
    "    return embedding_matrix.matmul(target_embedding).argsort()[-k:].tolist()\n",
    "\n",
    "def find_similar_words(word, embedding_matrix, k, name_to_index, index_to_name):\n",
    "    target_embedding = cbow_model.embedding_matrix[name_to_index[word]]\n",
    "    similar_indexes = find_similar(target_embedding, embedding_matrix, k=10)\n",
    "    return [index_to_name[x] for x in similar_indexes][::-1]"
   ]
  },
  {
   "cell_type": "code",
   "execution_count": 40,
   "metadata": {},
   "outputs": [],
   "source": [
    "embedding_matrix = cbow_model.embedding_matrix"
   ]
  },
  {
   "cell_type": "code",
   "execution_count": 41,
   "metadata": {},
   "outputs": [
    {
     "data": {
      "text/plain": [
       "['olive oil',\n",
       " 'extra-virgin olive oil',\n",
       " 'extra virgin olive oil',\n",
       " 'rapeseed oil',\n",
       " 'olive or rapeseed oil',\n",
       " 'risotto rice',\n",
       " 'chestnuts',\n",
       " 'pack all-butter shortcrust pastry',\n",
       " 'good-quality olive oil',\n",
       " 'olive oil or rapeseed oil']"
      ]
     },
     "execution_count": 41,
     "metadata": {},
     "output_type": "execute_result"
    }
   ],
   "source": [
    "find_similar_words(\n",
    "    'olive oil',\n",
    "    embedding_matrix,\n",
    "    k=10,\n",
    "    index_to_name=index_to_name,\n",
    "    name_to_index=name_to_index,\n",
    ")"
   ]
  },
  {
   "cell_type": "code",
   "execution_count": 42,
   "metadata": {},
   "outputs": [
    {
     "data": {
      "text/plain": [
       "['red pepper',\n",
       " 'yellow pepper',\n",
       " 'aubergine',\n",
       " 'brown basmati rice',\n",
       " 'thumb-sized piece ginger',\n",
       " 'green pepper',\n",
       " 'mangetout',\n",
       " 'carrot',\n",
       " 'ground cumin',\n",
       " 'vegetable bouillon powder']"
      ]
     },
     "execution_count": 42,
     "metadata": {},
     "output_type": "execute_result"
    }
   ],
   "source": [
    "find_similar_words(\n",
    "    'red pepper',\n",
    "    embedding_matrix,\n",
    "    k=10,\n",
    "    index_to_name=index_to_name,\n",
    "    name_to_index=name_to_index,\n",
    ")"
   ]
  },
  {
   "cell_type": "code",
   "execution_count": 43,
   "metadata": {},
   "outputs": [
    {
     "data": {
      "text/plain": [
       "['milk',\n",
       " 'whole milk',\n",
       " 'rapeseed or sunflower oil',\n",
       " 'gluten-free baking powder',\n",
       " 'semi-skimmed milk',\n",
       " 'zest 1 lemon',\n",
       " 'full-fat milk',\n",
       " 'whipping cream',\n",
       " 'eating apple',\n",
       " 'kg floury potatoes']"
      ]
     },
     "execution_count": 43,
     "metadata": {},
     "output_type": "execute_result"
    }
   ],
   "source": [
    "find_similar_words(\n",
    "    'milk',\n",
    "    embedding_matrix,\n",
    "    k=10,\n",
    "    index_to_name=index_to_name,\n",
    "    name_to_index=name_to_index,\n",
    ")"
   ]
  }
 ],
 "metadata": {
  "kernelspec": {
   "display_name": "Python 3",
   "language": "python",
   "name": "python3"
  },
  "language_info": {
   "codemirror_mode": {
    "name": "ipython",
    "version": 3
   },
   "file_extension": ".py",
   "mimetype": "text/x-python",
   "name": "python",
   "nbconvert_exporter": "python",
   "pygments_lexer": "ipython3",
   "version": "3.7.6"
  }
 },
 "nbformat": 4,
 "nbformat_minor": 4
}
